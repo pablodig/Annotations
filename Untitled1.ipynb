{
 "cells": [
  {
   "cell_type": "code",
   "execution_count": 4,
   "id": "5b12d5bf",
   "metadata": {},
   "outputs": [],
   "source": [
    "# You need install :\n",
    "# pip install PyPDF2 - > Read and parse your content pdf\n",
    "# pip install requests - > request for get the pdf\n",
    "# pip install BeautifulSoup - > for parse the html and find all url hrf with \".pdf\" final\n",
    "from PyPDF2 import PdfFileReader\n",
    "import requests\n",
    "import io\n",
    "from bs4 import BeautifulSoup\n",
    "\n",
    "url=requests.get('http://zero.sci-hub.se/6368/1e32bd63b94732a95dc379d69f2817e6/kakuta2017.pdf#navpanes=0&view=FitH')\n",
    "soup = BeautifulSoup(url.content,\"lxml\")\n",
    "\n",
    "for a in soup.find_all('a', href=True):\n",
    "    mystr= a['href']\n",
    "    if(mystr[-4:]=='.pdf'):\n",
    "        print (\"url with pdf final:\", a['href'])\n",
    "        urlpdf = a['href']\n",
    "        response = requests.get(urlpdf)\n",
    "        with io.BytesIO(response.content) as f:\n",
    "            pdf = PdfFileReader(f)\n",
    "            information = pdf.getDocumentInfo()\n",
    "            number_of_pages = pdf.getNumPages()\n",
    "            txt = f\"\"\"\n",
    "            Author: {information.author}\n",
    "            Creator: {information.creator}\n",
    "            Producer: {information.producer}\n",
    "            Subject: {information.subject}\n",
    "            Title: {information.title}\n",
    "            Number of pages: {number_of_pages}\n",
    "            \"\"\"\n",
    "            # Here the metadata of your pdf\n",
    "            print(txt)\n",
    "            # numpage for the number page\n",
    "            numpage=20\n",
    "            page = pdf.getPage(numpage)\n",
    "            page_content = page.extractText()\n",
    "            # print the content in the page 20            \n",
    "            print(page_content)"
   ]
  },
  {
   "cell_type": "code",
   "execution_count": null,
   "id": "c3885ff7",
   "metadata": {},
   "outputs": [],
   "source": []
  }
 ],
 "metadata": {
  "kernelspec": {
   "display_name": "Python 3 (ipykernel)",
   "language": "python",
   "name": "python3"
  },
  "language_info": {
   "codemirror_mode": {
    "name": "ipython",
    "version": 3
   },
   "file_extension": ".py",
   "mimetype": "text/x-python",
   "name": "python",
   "nbconvert_exporter": "python",
   "pygments_lexer": "ipython3",
   "version": "3.10.6"
  }
 },
 "nbformat": 4,
 "nbformat_minor": 5
}
