{
 "cells": [
  {
   "cell_type": "code",
   "execution_count": 1,
   "id": "5fa6b032",
   "metadata": {},
   "outputs": [],
   "source": [
    "from requests_html import HTMLSession\n",
    "from bs4 import BeautifulSoup\n",
    "import json"
   ]
  },
  {
   "cell_type": "code",
   "execution_count": 2,
   "id": "8c840781",
   "metadata": {},
   "outputs": [
    {
     "name": "stdout",
     "output_type": "stream",
     "text": [
      "200\n"
     ]
    }
   ],
   "source": [
    "session = HTMLSession()\n",
    "response=session.get('https://scholar.google.com/')\n",
    "print(response.status_code)"
   ]
  },
  {
   "cell_type": "code",
   "execution_count": 3,
   "id": "ad27efd6",
   "metadata": {},
   "outputs": [],
   "source": [
    "# this function for the getting information from the web page\n",
    "def get_paperinfo(paper_url):\n",
    "\n",
    "    #download the page\n",
    "    session = HTMLSession()\n",
    "    response=session.get(paper_url)\n",
    "\n",
    "  # check successful response\n",
    "    if response.status_code != 200:\n",
    "        print('Status code:', response.status_code)\n",
    "        raise Exception('Failed to fetch web page ')\n",
    "\n",
    "  #parse using beautiful soup\n",
    "    paper_doc = BeautifulSoup(response.text,'html.parser')\n",
    "\n",
    "    return paper_doc"
   ]
  },
  {
   "cell_type": "code",
   "execution_count": 14,
   "id": "05a9e0ef",
   "metadata": {},
   "outputs": [],
   "source": [
    "doc = get_paperinfo('https://scholar.google.com/scholar?start=30&q=RAB1B&hl=es&as_sdt=0,5')"
   ]
  },
  {
   "cell_type": "code",
   "execution_count": 15,
   "id": "8f212c80",
   "metadata": {},
   "outputs": [],
   "source": [
    "def get_tags(doc):\n",
    "    paper_tag = doc.select('[data-lid]')\n",
    "    cite_tag = doc.select('[title=Cite] + a')\n",
    "    link_tag = doc.find_all('h3',{\"class\" : \"gs_rt\"})\n",
    "    author_tag = doc.find_all(\"div\", {\"class\": \"gs_a\"})\n",
    "\n",
    "    return paper_tag,cite_tag,link_tag,author_tag"
   ]
  },
  {
   "cell_type": "code",
   "execution_count": 16,
   "id": "854e9e97",
   "metadata": {},
   "outputs": [],
   "source": [
    "paper_tag,cite_tag,link_tag,author_tag = get_tags(doc)"
   ]
  },
  {
   "cell_type": "code",
   "execution_count": 17,
   "id": "5124ba95",
   "metadata": {},
   "outputs": [],
   "source": [
    "def get_papertitle(paper_tag):\n",
    "  \n",
    "    paper_names = []\n",
    "  \n",
    "    for tag in paper_tag:\n",
    "        paper_names.append(tag.select('h3')[0].get_text())\n",
    "\n",
    "    return paper_names"
   ]
  },
  {
   "cell_type": "code",
   "execution_count": 18,
   "id": "46438357",
   "metadata": {},
   "outputs": [
    {
     "data": {
      "text/plain": [
       "['[HTML][HTML] The small GTPase RAB1B promotes antiviral innate immunity by interacting with TNF receptor–associated factor 3 (TRAF3)',\n",
       " 'Rab1b regulates COPI and COPII dynamics in mammalian cells',\n",
       " '[HTML][HTML] Adenylylation of Tyr77 stabilizes Rab1b GTPase in an active state: A molecular dynamics simulation analysis',\n",
       " 'Rab1b-GBF1-ARFs mediated intracellular trafficking is required for classical swine fever virus replication in swine umbilical vein endothelial cells',\n",
       " '[HTML][HTML] Human Golgi phosphoprotein 3 is an effector of RAB1A and RAB1B',\n",
       " 'Defective RAB1B-related megakaryocytic ER-to-Golgi transport in RUNX1 haplodeficiency: impact on von Willebrand factor',\n",
       " 'Inactive and active mutants of rab1b are not tightly integrated into target membranes.',\n",
       " 'Binding of the vesicle docking protein p115 to the GTPase Rab1b regulates membrane recruitment of the COPI vesicle coat',\n",
       " 'surgery in PAD patients–a pilot investigation',\n",
       " 'Prenylation of a Rab1B mutant with altered GTPase activity is impaired in cell-free systems but not in intact mammalian cells']"
      ]
     },
     "execution_count": 18,
     "metadata": {},
     "output_type": "execute_result"
    }
   ],
   "source": [
    "titulo = get_papertitle(paper_tag)\n",
    "titulo"
   ]
  },
  {
   "cell_type": "code",
   "execution_count": 19,
   "id": "46812780",
   "metadata": {},
   "outputs": [
    {
     "data": {
      "text/plain": [
       "['https://www.jbc.org/article/S0021-9258(20)34984-X/abstract',\n",
       " 'https://www.tandfonline.com/doi/abs/10.4161/cl.1.4.18221',\n",
       " 'https://www.nature.com/articles/srep19896',\n",
       " 'https://www.sciencedirect.com/science/article/pii/S0378113520304995',\n",
       " 'https://journals.plos.org/plosone/article?id=10.1371/journal.pone.0237514',\n",
       " 'https://ashpublications.org/bloodadvances/article-abstract/2/7/797/15815',\n",
       " 'https://www.spandidos-publications.com/ijo/15/4/727',\n",
       " 'https://www.tandfonline.com/doi/abs/10.4161/cl.27687',\n",
       " 'https://books.google.com/books?hl=es&lr=&id=95hSB3iN0koC&oi=fnd&pg=PA299&dq=RAB1B&ots=DJG-v_4uIa&sig=KJlrQnbzMeXWl_Zqrvo-NW3_bFI',\n",
       " 'https://portlandpress.com/biochemj/article-abstract/318/3/1007/32968']"
      ]
     },
     "execution_count": 19,
     "metadata": {},
     "output_type": "execute_result"
    }
   ],
   "source": [
    "def get_link(paper_tag):\n",
    "  \n",
    "    paper_links = []\n",
    "  \n",
    "    for link in paper_tag:\n",
    "        paper_links.append(link.a.get('href'))\n",
    "\n",
    "    return paper_links\n",
    "\n",
    "links = get_link(link_tag)\n",
    "links"
   ]
  },
  {
   "cell_type": "code",
   "execution_count": 137,
   "id": "0dd9ab75",
   "metadata": {},
   "outputs": [],
   "source": [
    "response=session.get(f'https://www.ncbi.nlm.nih.gov/pmc/articles/PMC9029047/pdf/cells-11-01314.pdf')"
   ]
  },
  {
   "cell_type": "code",
   "execution_count": null,
   "id": "03d4c486",
   "metadata": {},
   "outputs": [],
   "source": []
  }
 ],
 "metadata": {
  "kernelspec": {
   "display_name": "Python 3 (ipykernel)",
   "language": "python",
   "name": "python3"
  },
  "language_info": {
   "codemirror_mode": {
    "name": "ipython",
    "version": 3
   },
   "file_extension": ".py",
   "mimetype": "text/x-python",
   "name": "python",
   "nbconvert_exporter": "python",
   "pygments_lexer": "ipython3",
   "version": "3.10.6"
  }
 },
 "nbformat": 4,
 "nbformat_minor": 5
}
