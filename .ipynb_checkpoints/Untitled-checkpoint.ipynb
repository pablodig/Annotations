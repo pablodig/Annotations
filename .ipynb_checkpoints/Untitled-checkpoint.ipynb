{
 "cells": [
  {
   "cell_type": "code",
   "execution_count": 154,
   "id": "5fa6b032",
   "metadata": {},
   "outputs": [],
   "source": [
    "from requests_html import HTMLSession\n",
    "from bs4 import BeautifulSoup\n",
    "import json"
   ]
  },
  {
   "cell_type": "code",
   "execution_count": 155,
   "id": "8c840781",
   "metadata": {},
   "outputs": [
    {
     "name": "stdout",
     "output_type": "stream",
     "text": [
      "200\n"
     ]
    }
   ],
   "source": [
    "session = HTMLSession()\n",
    "response=session.get('https://scholar.google.com/')\n",
    "print(response.status_code)"
   ]
  },
  {
   "cell_type": "code",
   "execution_count": 156,
   "id": "ad27efd6",
   "metadata": {},
   "outputs": [],
   "source": [
    "# this function for the getting information from the web page\n",
    "def get_paperinfo(paper_url):\n",
    "\n",
    "    #download the page\n",
    "    session = HTMLSession()\n",
    "    response=session.get(paper_url)\n",
    "\n",
    "  # check successful response\n",
    "    if response.status_code != 200:\n",
    "        print('Status code:', response.status_code)\n",
    "        raise Exception('Failed to fetch web page ')\n",
    "\n",
    "  #parse using beautiful soup\n",
    "    paper_doc = BeautifulSoup(response.text,'html.parser')\n",
    "\n",
    "    return paper_doc"
   ]
  },
  {
   "cell_type": "code",
   "execution_count": 219,
   "id": "05a9e0ef",
   "metadata": {},
   "outputs": [],
   "source": [
    "# Getting information from Google Scholar\n",
    "doc = get_paperinfo('https://scholar.google.com/scholar?start=20&q=RAB1B&hl=es&as_sdt=0,5')"
   ]
  },
  {
   "cell_type": "code",
   "execution_count": 220,
   "id": "8f212c80",
   "metadata": {},
   "outputs": [],
   "source": [
    "def get_tags(doc):\n",
    "    '''\n",
    "    gets specific information from a paper_doc file\n",
    "    '''\n",
    "    paper_tag = doc.select('[data-lid]')\n",
    "    cite_tag = doc.select('[title=Cite] + a')\n",
    "    link_tag = doc.find_all('h3',{\"class\" : \"gs_rt\"})\n",
    "    author_tag = doc.find_all(\"div\", {\"class\": \"gs_a\"})\n",
    "\n",
    "    return paper_tag,cite_tag,link_tag,author_tag"
   ]
  },
  {
   "cell_type": "code",
   "execution_count": 221,
   "id": "854e9e97",
   "metadata": {},
   "outputs": [],
   "source": [
    "paper_tag,cite_tag,link_tag,author_tag = get_tags(doc)"
   ]
  },
  {
   "cell_type": "code",
   "execution_count": 222,
   "id": "5124ba95",
   "metadata": {},
   "outputs": [],
   "source": [
    "def get_papertitle(paper_tag):\n",
    "  \n",
    "    paper_names = []\n",
    "  \n",
    "    for tag in paper_tag:\n",
    "        paper_names.append(tag.select('h3')[0].get_text())\n",
    "\n",
    "    return paper_names"
   ]
  },
  {
   "cell_type": "code",
   "execution_count": 223,
   "id": "46438357",
   "metadata": {},
   "outputs": [
    {
     "data": {
      "text/plain": [
       "['The putative “switch 2” domain of the Ras-related GTPase, Rab1B, plays an essential role in the interaction with Rab escort protein',\n",
       " '[HTML][HTML] Expression pattern of the PRDX2, RAB1A, RAB1B, RAB5A and RAB25 genes in normal and cancer cervical tissues',\n",
       " 'Rab1b overexpression modifies Golgi size and gene expression in HeLa cells and modulates the thyrotrophin response in thyroid cells in culture',\n",
       " '[HTML][HTML] Staphylococcus aureus Alpha-Toxin Induces the Formation of Dynamic Tubules Labeled with LC3 within Host Cells in a Rab7 and Rab1b-Dependent\\xa0…',\n",
       " 'Isoprenylation of Rab1B is impaired by mutations in its effector domain',\n",
       " 'Nucleotide sequence of a rat cDNA: rab1B, encoding a rab1-YPT related protein.',\n",
       " '…\\xa0II secretion is necessary for optimal association of the Legionella-containing vacuole with macrophage Rab1B but enhances intracellular replication mainly by Rab1B\\xa0…',\n",
       " 'Rab1b Silencing Using Small Interfering RNA for Analysis of Disease‐Specific Function',\n",
       " 'Rab1b and ARF5 are novel RNA-binding proteins involved in FMDV IRES–driven RNA localization',\n",
       " '[HTML][HTML] Spatial-temporal study of Rab1b dynamics and function at the ER-Golgi interface']"
      ]
     },
     "execution_count": 223,
     "metadata": {},
     "output_type": "execute_result"
    }
   ],
   "source": [
    "titulo = get_papertitle(paper_tag)\n",
    "titulo"
   ]
  },
  {
   "cell_type": "code",
   "execution_count": 224,
   "id": "46812780",
   "metadata": {},
   "outputs": [
    {
     "data": {
      "text/plain": [
       "['https://www.molbiolcell.org/doi/abs/10.1091/mbc.9.1.223',\n",
       " 'https://www.spandidos-publications.com/10.3892/ijo.2014.2724?text=fulltext',\n",
       " 'https://www.molbiolcell.org/doi/abs/10.1091/mbc.E12-07-0530',\n",
       " 'https://www.frontiersin.org/articles/10.3389/fcimb.2017.00431/full',\n",
       " 'https://www.sciencedirect.com/science/article/pii/S002192581882364X',\n",
       " 'https://www.ncbi.nlm.nih.gov/pmc/articles/PMC331846/',\n",
       " 'https://journals.asm.org/doi/abs/10.1128/IAI.00750-16',\n",
       " 'https://www.sciencedirect.com/science/article/pii/S0076687907380014',\n",
       " 'https://www.life-science-alliance.org/content/2/1/e201800131.abstract',\n",
       " 'https://journals.plos.org/plosone/article?id=10.1371/journal.pone.0160838']"
      ]
     },
     "execution_count": 224,
     "metadata": {},
     "output_type": "execute_result"
    }
   ],
   "source": [
    "def get_link(paper_tag):\n",
    "  \n",
    "    paper_links = []\n",
    "  \n",
    "    for link in paper_tag:\n",
    "        paper_links.append(link.a.get('href'))\n",
    "\n",
    "    return paper_links\n",
    "\n",
    "links = get_link(link_tag)\n",
    "\n",
    "links"
   ]
  },
  {
   "cell_type": "code",
   "execution_count": 225,
   "id": "0dd9ab75",
   "metadata": {},
   "outputs": [
    {
     "name": "stdout",
     "output_type": "stream",
     "text": [
      "paper no encontrado\n",
      "paper no encontrado\n",
      "paper no encontrado\n",
      "paper no encontrado\n"
     ]
    }
   ],
   "source": [
    "\n",
    "sci_hub_links = []\n",
    "for link in links:\n",
    "    response=session.get(f'https://sci-hub.se/{link}')\n",
    "    paper_info = BeautifulSoup(response.text,'html.parser')\n",
    "    pdf_link = paper_info.select('embed')\n",
    "    try:\n",
    "        pdf_link = pdf_link[0].get('src')\n",
    "    except:\n",
    "        print('paper no encontrado')\n",
    "    sci_hub_links.append(pdf_link)"
   ]
  },
  {
   "cell_type": "code",
   "execution_count": 226,
   "id": "698e6957",
   "metadata": {},
   "outputs": [
    {
     "data": {
      "text/plain": [
       "['//moscow.sci-hub.se/4091/25d3a35bbb4b3f7e8465d8b22eb5b27c/overmeyer1998.pdf#navpanes=0&view=FitH',\n",
       " '//moscow.sci-hub.se/4839/bd73205ac1dfeb12c510a7a629f7a67c/nikoshkov2014.pdf#navpanes=0&view=FitH',\n",
       " '//zero.sci-hub.se/3805/442dbaa82c97e35c0c21a4f069fe008a/romero2013.pdf#navpanes=0&view=FitH',\n",
       " '//zero.sci-hub.se/7010/e0a3b0d715cc846d2089addc680526e6/10.3389@fcimb.2017.00431.pdf#navpanes=0&view=FitH',\n",
       " [],\n",
       " [],\n",
       " '//zero.sci-hub.se/5900/1d5c0c8b1d3cf8a8d112bce04847a240/white2016.pdf#navpanes=0&view=FitH',\n",
       " '//moscow.sci-hub.se/4666/966f10dfd063a124031f53f7e1c2fc10/hutt2008.pdf#navpanes=0&view=FitH',\n",
       " [],\n",
       " []]"
      ]
     },
     "execution_count": 226,
     "metadata": {},
     "output_type": "execute_result"
    }
   ],
   "source": [
    "sci_hub_links"
   ]
  },
  {
   "cell_type": "code",
   "execution_count": 217,
   "id": "9444c8f2",
   "metadata": {},
   "outputs": [
    {
     "name": "stdout",
     "output_type": "stream",
     "text": [
      "no hay porque\n"
     ]
    }
   ],
   "source": [
    "for link in sci_hub_links:\n",
    "    try:\n",
    "        response=session.get('zero.sci-hub.se/6368/1e32bd63b94732a95dc379d69f2817e6/kakuta2017.pdf#navpanes=0&view=FitH')\n",
    "    except:\n",
    "        print('no hay porque')\n",
    "    break"
   ]
  },
  {
   "cell_type": "code",
   "execution_count": 218,
   "id": "2ea4514a",
   "metadata": {},
   "outputs": [],
   "source": [
    "response=session.get('http://zero.sci-hub.se/6368/1e32bd63b94732a95dc379d69f2817e6/kakuta2017.pdf#navpanes=0&view=FitH')"
   ]
  },
  {
   "cell_type": "code",
   "execution_count": null,
   "id": "03e2b2fa",
   "metadata": {},
   "outputs": [],
   "source": []
  },
  {
   "cell_type": "code",
   "execution_count": null,
   "id": "64b07429",
   "metadata": {},
   "outputs": [],
   "source": []
  },
  {
   "cell_type": "code",
   "execution_count": null,
   "id": "e00a0c9a",
   "metadata": {},
   "outputs": [],
   "source": []
  },
  {
   "cell_type": "code",
   "execution_count": null,
   "id": "d4130831",
   "metadata": {},
   "outputs": [],
   "source": []
  },
  {
   "cell_type": "code",
   "execution_count": null,
   "id": "643d820a",
   "metadata": {},
   "outputs": [],
   "source": []
  },
  {
   "cell_type": "code",
   "execution_count": null,
   "id": "f63a4491",
   "metadata": {},
   "outputs": [],
   "source": []
  },
  {
   "cell_type": "code",
   "execution_count": null,
   "id": "4fc5fb11",
   "metadata": {},
   "outputs": [],
   "source": []
  },
  {
   "cell_type": "code",
   "execution_count": null,
   "id": "19f9a8b0",
   "metadata": {},
   "outputs": [],
   "source": []
  },
  {
   "cell_type": "code",
   "execution_count": null,
   "id": "bc684b52",
   "metadata": {},
   "outputs": [],
   "source": []
  },
  {
   "cell_type": "code",
   "execution_count": null,
   "id": "f383eb9e",
   "metadata": {},
   "outputs": [],
   "source": []
  },
  {
   "cell_type": "code",
   "execution_count": null,
   "id": "4ee2b691",
   "metadata": {},
   "outputs": [],
   "source": []
  },
  {
   "cell_type": "code",
   "execution_count": 171,
   "id": "e3d4f342",
   "metadata": {},
   "outputs": [],
   "source": [
    "#paper_doc = BeautifulSoup(response.text,'html.parser')\n",
    "\n",
    "pdf = open(\"s.pdf\", 'wb')\n",
    "pdf.write(response.content)\n",
    "pdf.close()\n",
    "#print(\"File \", i, \" downloaded\")"
   ]
  },
  {
   "cell_type": "code",
   "execution_count": 193,
   "id": "966aa2cd",
   "metadata": {},
   "outputs": [
    {
     "ename": "TypeError",
     "evalue": "expected str, bytes or os.PathLike object, not HTMLResponse",
     "output_type": "error",
     "traceback": [
      "\u001b[0;31m---------------------------------------------------------------------------\u001b[0m",
      "\u001b[0;31mTypeError\u001b[0m                                 Traceback (most recent call last)",
      "Input \u001b[0;32mIn [193]\u001b[0m, in \u001b[0;36m<cell line: 3>\u001b[0;34m()\u001b[0m\n\u001b[1;32m      1\u001b[0m \u001b[38;5;28;01mfrom\u001b[39;00m \u001b[38;5;21;01mPyPDF2\u001b[39;00m \u001b[38;5;28;01mimport\u001b[39;00m PdfFileReader\n\u001b[0;32m----> 3\u001b[0m \u001b[38;5;28;01mwith\u001b[39;00m \u001b[38;5;28;43mopen\u001b[39;49m\u001b[43m(\u001b[49m\u001b[43mresponse\u001b[49m\u001b[43m,\u001b[49m\u001b[43m \u001b[49m\u001b[38;5;124;43m'\u001b[39;49m\u001b[38;5;124;43mrb\u001b[39;49m\u001b[38;5;124;43m'\u001b[39;49m\u001b[43m)\u001b[49m \u001b[38;5;28;01mas\u001b[39;00m f:\n\u001b[1;32m      4\u001b[0m     pdf \u001b[38;5;241m=\u001b[39m PdfFileReader(f)\n\u001b[1;32m      5\u001b[0m     information \u001b[38;5;241m=\u001b[39m pdf\u001b[38;5;241m.\u001b[39mgetDocumentInfo()\n",
      "\u001b[0;31mTypeError\u001b[0m: expected str, bytes or os.PathLike object, not HTMLResponse"
     ]
    }
   ],
   "source": [
    "from PyPDF2 import PdfFileReader\n",
    "\n",
    "with open(response, 'rb') as f:\n",
    "    pdf = PdfFileReader(f)\n",
    "    information = pdf.getDocumentInfo()\n",
    "    number_of_pages = pdf.getNumPages()"
   ]
  },
  {
   "cell_type": "code",
   "execution_count": 183,
   "id": "b07b2d64",
   "metadata": {},
   "outputs": [],
   "source": [
    "information.title"
   ]
  },
  {
   "cell_type": "code",
   "execution_count": null,
   "id": "5cf6821f",
   "metadata": {},
   "outputs": [],
   "source": []
  }
 ],
 "metadata": {
  "kernelspec": {
   "display_name": "Python 3 (ipykernel)",
   "language": "python",
   "name": "python3"
  },
  "language_info": {
   "codemirror_mode": {
    "name": "ipython",
    "version": 3
   },
   "file_extension": ".py",
   "mimetype": "text/x-python",
   "name": "python",
   "nbconvert_exporter": "python",
   "pygments_lexer": "ipython3",
   "version": "3.10.6"
  }
 },
 "nbformat": 4,
 "nbformat_minor": 5
}
