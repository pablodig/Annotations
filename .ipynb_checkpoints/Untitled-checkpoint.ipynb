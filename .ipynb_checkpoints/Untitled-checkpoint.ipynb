{
 "cells": [
  {
   "cell_type": "code",
   "execution_count": 1,
   "id": "5fa6b032",
   "metadata": {},
   "outputs": [],
   "source": [
    "from requests_html import HTMLSession\n",
    "from bs4 import BeautifulSoup\n",
    "import json"
   ]
  },
  {
   "cell_type": "code",
   "execution_count": 2,
   "id": "ad27efd6",
   "metadata": {},
   "outputs": [],
   "source": [
    "# this function for the getting information from the web page\n",
    "\n",
    "def get_paperinfo(paper_url):\n",
    "\n",
    "    #download the page\n",
    "    session = HTMLSession()\n",
    "    response=session.get(paper_url)\n",
    "\n",
    "  # check successful response\n",
    "    if response.status_code != 200:\n",
    "        print('Status code:', response.status_code)\n",
    "        raise Exception('Failed to fetch web page ')\n",
    "\n",
    "  #parse using beautiful soup\n",
    "    paper_doc = BeautifulSoup(response.text,'html.parser')\n",
    "\n",
    "    return paper_doc\n",
    "\n",
    "\n",
    "def get_link(doc):\n",
    "    \n",
    "    link_tag = doc.find_all('h3',{\"class\" : \"gs_rt\"}) \n",
    "    \n",
    "    paper_links = []\n",
    "    paper_titles = []\n",
    "  \n",
    "    for link in link_tag:\n",
    "        paper_links.append(link.a.get('href'))\n",
    "        paper_titles.append(link.get_text())\n",
    "\n",
    "    return paper_links, paper_titles"
   ]
  },
  {
   "cell_type": "code",
   "execution_count": 4,
   "id": "05a9e0ef",
   "metadata": {},
   "outputs": [
    {
     "data": {
      "text/plain": [
       "['https://www.molbiolcell.org/doi/abs/10.1091/mbc.9.1.223',\n",
       " 'https://www.spandidos-publications.com/10.3892/ijo.2014.2724?text=fulltext',\n",
       " 'https://www.molbiolcell.org/doi/abs/10.1091/mbc.E12-07-0530',\n",
       " 'https://www.frontiersin.org/articles/10.3389/fcimb.2017.00431/full',\n",
       " 'https://www.sciencedirect.com/science/article/pii/S002192581882364X',\n",
       " 'https://www.ncbi.nlm.nih.gov/pmc/articles/PMC331846/',\n",
       " 'https://journals.asm.org/doi/abs/10.1128/IAI.00750-16',\n",
       " 'https://www.sciencedirect.com/science/article/pii/S0076687907380014',\n",
       " 'https://www.life-science-alliance.org/content/2/1/e201800131.abstract',\n",
       " 'https://journals.plos.org/plosone/article?id=10.1371/journal.pone.0160838']"
      ]
     },
     "execution_count": 4,
     "metadata": {},
     "output_type": "execute_result"
    }
   ],
   "source": [
    "# Getting information from Google Scholar\n",
    "doc = get_paperinfo('https://scholar.google.com/scholar?start=20&q=RAB1B&hl=es&as_sdt=0,5')\n",
    "\n",
    "links, titles = get_link(doc)\n",
    "\n",
    "links"
   ]
  },
  {
   "cell_type": "code",
   "execution_count": 21,
   "id": "a78b21ac",
   "metadata": {},
   "outputs": [
    {
     "data": {
      "text/plain": [
       "'#main-content'"
      ]
     },
     "execution_count": 21,
     "metadata": {},
     "output_type": "execute_result"
    }
   ],
   "source": [
    "doc2 = get_paperinfo(links[8])\n",
    "doc2.a.get('href')"
   ]
  },
  {
   "cell_type": "code",
   "execution_count": null,
   "id": "0dd9ab75",
   "metadata": {},
   "outputs": [],
   "source": [
    "\n",
    "sci_hub_links = []\n",
    "for link in links:\n",
    "    response=session.get(f'https://sci-hub.se/{link}')\n",
    "    paper_info = BeautifulSoup(response.text,'html.parser')\n",
    "    pdf_link = paper_info.select('embed')\n",
    "    try:\n",
    "        pdf_link = pdf_link[0].get('src')\n",
    "    except:\n",
    "        print(f'{link} no encontrado')\n",
    "    sci_hub_links.append(pdf_link)"
   ]
  },
  {
   "cell_type": "code",
   "execution_count": null,
   "id": "698e6957",
   "metadata": {},
   "outputs": [],
   "source": [
    "sci_hub_links"
   ]
  },
  {
   "cell_type": "code",
   "execution_count": null,
   "id": "9444c8f2",
   "metadata": {},
   "outputs": [],
   "source": [
    "for link in sci_hub_links:\n",
    "    try:\n",
    "        response=session.get('zero.sci-hub.se/6368/1e32bd63b94732a95dc379d69f2817e6/kakuta2017.pdf#navpanes=0&view=FitH')\n",
    "    except:\n",
    "        print('no hay porque')\n",
    "    break"
   ]
  },
  {
   "cell_type": "code",
   "execution_count": null,
   "id": "2ea4514a",
   "metadata": {},
   "outputs": [],
   "source": [
    "response=session.get('http://zero.sci-hub.se/6368/1e32bd63b94732a95dc379d69f2817e6/kakuta2017.pdf#navpanes=0&view=FitH')"
   ]
  },
  {
   "cell_type": "code",
   "execution_count": null,
   "id": "03e2b2fa",
   "metadata": {},
   "outputs": [],
   "source": []
  },
  {
   "cell_type": "code",
   "execution_count": null,
   "id": "64b07429",
   "metadata": {},
   "outputs": [],
   "source": []
  },
  {
   "cell_type": "code",
   "execution_count": null,
   "id": "e00a0c9a",
   "metadata": {},
   "outputs": [],
   "source": []
  },
  {
   "cell_type": "code",
   "execution_count": null,
   "id": "d4130831",
   "metadata": {},
   "outputs": [],
   "source": []
  },
  {
   "cell_type": "code",
   "execution_count": null,
   "id": "643d820a",
   "metadata": {},
   "outputs": [],
   "source": []
  },
  {
   "cell_type": "code",
   "execution_count": null,
   "id": "f63a4491",
   "metadata": {},
   "outputs": [],
   "source": []
  },
  {
   "cell_type": "code",
   "execution_count": null,
   "id": "4fc5fb11",
   "metadata": {},
   "outputs": [],
   "source": []
  },
  {
   "cell_type": "code",
   "execution_count": null,
   "id": "19f9a8b0",
   "metadata": {},
   "outputs": [],
   "source": []
  },
  {
   "cell_type": "code",
   "execution_count": null,
   "id": "bc684b52",
   "metadata": {},
   "outputs": [],
   "source": []
  },
  {
   "cell_type": "code",
   "execution_count": null,
   "id": "f383eb9e",
   "metadata": {},
   "outputs": [],
   "source": []
  },
  {
   "cell_type": "code",
   "execution_count": null,
   "id": "4ee2b691",
   "metadata": {},
   "outputs": [],
   "source": []
  },
  {
   "cell_type": "code",
   "execution_count": null,
   "id": "e3d4f342",
   "metadata": {},
   "outputs": [],
   "source": [
    "#paper_doc = BeautifulSoup(response.text,'html.parser')\n",
    "\n",
    "pdf = open(\"s.pdf\", 'wb')\n",
    "pdf.write(response.content)\n",
    "pdf.close()\n",
    "#print(\"File \", i, \" downloaded\")"
   ]
  },
  {
   "cell_type": "code",
   "execution_count": null,
   "id": "966aa2cd",
   "metadata": {},
   "outputs": [],
   "source": [
    "from PyPDF2 import PdfFileReader\n",
    "\n",
    "with open(response, 'rb') as f:\n",
    "    pdf = PdfFileReader(f)\n",
    "    information = pdf.getDocumentInfo()\n",
    "    number_of_pages = pdf.getNumPages()"
   ]
  },
  {
   "cell_type": "code",
   "execution_count": null,
   "id": "b07b2d64",
   "metadata": {},
   "outputs": [],
   "source": [
    "information.title"
   ]
  },
  {
   "cell_type": "code",
   "execution_count": null,
   "id": "5cf6821f",
   "metadata": {},
   "outputs": [],
   "source": []
  }
 ],
 "metadata": {
  "kernelspec": {
   "display_name": "Python 3 (ipykernel)",
   "language": "python",
   "name": "python3"
  },
  "language_info": {
   "codemirror_mode": {
    "name": "ipython",
    "version": 3
   },
   "file_extension": ".py",
   "mimetype": "text/x-python",
   "name": "python",
   "nbconvert_exporter": "python",
   "pygments_lexer": "ipython3",
   "version": "3.10.6"
  }
 },
 "nbformat": 4,
 "nbformat_minor": 5
}
