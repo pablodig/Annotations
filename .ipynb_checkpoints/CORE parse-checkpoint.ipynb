{
 "cells": [
  {
   "cell_type": "markdown",
   "id": "8e0eed8c",
   "metadata": {},
   "source": [
    "### Import Libraries"
   ]
  },
  {
   "cell_type": "code",
   "execution_count": 1,
   "id": "5fa6b032",
   "metadata": {},
   "outputs": [],
   "source": [
    "from requests_html import HTMLSession\n",
    "from bs4 import BeautifulSoup\n",
    "import pandas as pd\n",
    "from tqdm import tqdm_notebook as tqdm\n",
    "import re\n",
    "import math"
   ]
  },
  {
   "cell_type": "markdown",
   "id": "020626c7",
   "metadata": {},
   "source": [
    "### Fuctions to extract info from CORE webpage"
   ]
  },
  {
   "cell_type": "code",
   "execution_count": 34,
   "id": "ad27efd6",
   "metadata": {},
   "outputs": [],
   "source": [
    "# this function for the getting information from the web page\n",
    "\n",
    "def get_paperinfo(paper_url):\n",
    "\n",
    "    #download the page\n",
    "    session = HTMLSession()\n",
    "    response=session.get(paper_url)\n",
    "\n",
    "  # check successful response\n",
    "    if response.status_code != 200:\n",
    "        print('Status code:', response.status_code)\n",
    "        raise Exception('Failed to fetch web page ')\n",
    "\n",
    "  #parse using beautiful soup\n",
    "    paper_doc = BeautifulSoup(response.text,'html.parser')\n",
    "\n",
    "    return paper_doc\n",
    "\n",
    "\n",
    "def core_attributes(doc):\n",
    "    \n",
    "    '''\n",
    "    recieves a doc file from the get_paperinfo function\n",
    "    and returns title, ref and abstract from the CORE webpage\n",
    "    '''\n",
    "    \n",
    "    # text contains title and references\n",
    "    text = doc.main.find_all('h3')\n",
    "    # ab contains the abstracts\n",
    "    ab = doc.find_all(\"div\", itemprop=\"abstract\")\n",
    "    \n",
    "    papers = []\n",
    "  \n",
    "    for i, (t,a) in enumerate(zip(text,ab)):\n",
    "        title = t.get_text()\n",
    "        ref = t.a.get('href')\n",
    "        abstract = a.get_text()\n",
    "        \n",
    "        # check if the article does not have an abstract\n",
    "        if abstract == '':\n",
    "            print(f'Article{i}: {title} has an empty abstract')\n",
    "        \n",
    "        # else append to a list\n",
    "        else:\n",
    "            papers.append([title, ref, abstract])\n",
    "\n",
    "    return papers\n"
   ]
  },
  {
   "cell_type": "markdown",
   "id": "9b45a5b3",
   "metadata": {},
   "source": [
    "### Generation of pandas df with stored paper data"
   ]
  },
  {
   "cell_type": "code",
   "execution_count": 45,
   "id": "05a9e0ef",
   "metadata": {},
   "outputs": [
    {
     "name": "stderr",
     "output_type": "stream",
     "text": [
      "/var/folders/_x/tfg8s2ks4n1ftkkwzp5sqjpc0000gn/T/ipykernel_24439/238930726.py:14: TqdmDeprecationWarning: This function will be removed in tqdm==5.0.0\n",
      "Please use `tqdm.notebook.tqdm` instead of `tqdm.tqdm_notebook`\n",
      "  for l in tqdm(range(1,round_)):\n"
     ]
    },
    {
     "data": {
      "application/vnd.jupyter.widget-view+json": {
       "model_id": "5502461edba743c58f730076a20848b3",
       "version_major": 2,
       "version_minor": 0
      },
      "text/plain": [
       "  0%|          | 0/12 [00:00<?, ?it/s]"
      ]
     },
     "metadata": {},
     "output_type": "display_data"
    },
    {
     "name": "stdout",
     "output_type": "stream",
     "text": [
      "Article6: Parkinson’s:A Disease of Aberrant Vesicle Trafficking has an empty abstract\n",
      "Article3: Characterization of Parkinson's Disease-associated LRRK2 Kinase has an empty abstract\n",
      "Article3: Genetic Heterogeneity of Autism Spectrum Disorders has an empty abstract\n",
      "Article7: Pathogenic variants in movement disorders: modifiers, interactors and disease models has an empty abstract\n",
      "Article0: Putative second hit rare genetic variants in families with seemingly GBA-associated Parkinson's disease has an empty abstract\n",
      "Article2: The presence of two rare genomic syndromes, 1q21 deletion and Xq28 duplication, segregating independently in a family with intellectual disability has an empty abstract\n",
      "Article7: Integrated Stress Response Activity Marks Stem Cells in Normal Hematopoiesis and Leukemia has an empty abstract\n",
      "Article2: Comprehensive knockout analysis of the Rab family GTPases in epithelial cells has an empty abstract\n",
      "Article4: Molecular and Cellular Mechanisms Affected in ALS has an empty abstract\n",
      "Article1: Features of structural binding motifs and their predictive power has an empty abstract\n",
      "Article4: BCORL1 regulates stemness in hepatoblastoma cells through inhibition of KRT19 expression has an empty abstract\n",
      "Article5: BCORL1 regulates stemness in hepatoblastoma cells through inhibition of KRT19 expression has an empty abstract\n",
      "Article1: Multi-omics analysis of human brain tissue and an animal model of Parkinson’s Disease has an empty abstract\n",
      "Article2: Deletion of Setdb1 in Sox17 lineage cells impairs early embryonic development in the mouse has an empty abstract\n",
      "Article3: Cytoskeleton and Molecular Motors in the Causation of Motor Neuron Diseases has an empty abstract\n",
      "Article5: Investigating the role that Interleukin-10's receptor binding properties play in defining its biological activities has an empty abstract\n",
      "Article7: Microarray bioinformatics and its applications to clinical research has an empty abstract\n",
      "Article9: The rab family of small GTPases : structural determinants of lipid modification and function has an empty abstract\n",
      "Article0: Transcriptional  characterization and functional analysis of \n",
      "long  non-coding  RNA/protein-coding \n",
      "gene pairs encoded in the human genome. has an empty abstract\n",
      "Article3: Dissecting and Modeling Oncogene Dependent Molecular Mechanisms in Lymphoma Genesis and Progression has an empty abstract\n",
      "Article0: Genomic approach in idiopathic intelectual disability has an empty abstract\n",
      "Article8: Identifying novel genetic causes for hereditary myopathies: from conventional approaches to next-generation sequencing has an empty abstract\n"
     ]
    }
   ],
   "source": [
    "# Getting information from CORE\n",
    "gene = 'rab39b'\n",
    "doc = get_paperinfo(f'https://core.ac.uk/search?q={gene}+AND+language%3A\"en\"&page=1')\n",
    "n_output = doc.find(\"div\", class_=\"styles_header__dGlUR\").p.get_text()\n",
    "#n_output = n_output.p.get_text()\n",
    "number = re.findall('[-+]?[.]?[\\d]+(?:,\\d\\d\\d)*[\\.]?\\d*(?:[eE][-+]?\\d+)?', n_output)\n",
    "number = float(number[0].replace(',', ''))\n",
    "round_ = math.ceil(number/10)\n",
    "\n",
    "#Create empty dataframe\n",
    "df = pd.DataFrame(columns = ['title', 'ref', 'abstract'])\n",
    "\n",
    "#Iterate over different pages on the CORE database to obtain titlt, ref and abstract and add to df\n",
    "for l in tqdm(range(1,round_)):\n",
    "    doc = get_paperinfo(f'https://core.ac.uk/search?q={gene}+AND+language%3A%22en%22&page={l}')\n",
    "    papers = core_attributes(doc)\n",
    "    dft = pd.DataFrame(papers, columns = ['title', 'ref', 'abstract'])\n",
    "    df = pd.concat([df,dft])  \n",
    "    \n",
    "#df.to_csv('paper_info.csv')"
   ]
  },
  {
   "cell_type": "code",
   "execution_count": 47,
   "id": "21ae4dfd",
   "metadata": {},
   "outputs": [],
   "source": [
    "df.to_csv('paper_info.csv')"
   ]
  },
  {
   "cell_type": "code",
   "execution_count": null,
   "id": "d42cf715",
   "metadata": {},
   "outputs": [],
   "source": []
  }
 ],
 "metadata": {
  "kernelspec": {
   "display_name": "Python 3 (ipykernel)",
   "language": "python",
   "name": "python3"
  },
  "language_info": {
   "codemirror_mode": {
    "name": "ipython",
    "version": 3
   },
   "file_extension": ".py",
   "mimetype": "text/x-python",
   "name": "python",
   "nbconvert_exporter": "python",
   "pygments_lexer": "ipython3",
   "version": "3.10.6"
  }
 },
 "nbformat": 4,
 "nbformat_minor": 5
}
