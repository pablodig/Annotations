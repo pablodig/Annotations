{
 "cells": [
  {
   "cell_type": "code",
   "execution_count": 2,
   "id": "5fa6b032",
   "metadata": {},
   "outputs": [],
   "source": [
    "from requests_html import HTMLSession\n",
    "from bs4 import BeautifulSoup"
   ]
  },
  {
   "cell_type": "code",
   "execution_count": 71,
   "id": "ad27efd6",
   "metadata": {},
   "outputs": [],
   "source": [
    "# this function for the getting information from the web page\n",
    "\n",
    "def get_paperinfo(paper_url):\n",
    "\n",
    "    #download the page\n",
    "    session = HTMLSession()\n",
    "    response=session.get(paper_url)\n",
    "\n",
    "  # check successful response\n",
    "    if response.status_code != 200:\n",
    "        print('Status code:', response.status_code)\n",
    "        raise Exception('Failed to fetch web page ')\n",
    "\n",
    "  #parse using beautiful soup\n",
    "    paper_doc = BeautifulSoup(response.text,'html.parser')\n",
    "\n",
    "    return paper_doc\n",
    "\n",
    "\n",
    "def core_attributes(doc):\n",
    "    \n",
    "    '''\n",
    "    recieves a doc file from the get_paperinfo function\n",
    "    and returns title, ref and abstract from the CORE webpage\n",
    "    '''\n",
    "    \n",
    "    # text contains title and references\n",
    "    text = doc.main.find_all('h3')\n",
    "    # ab contains the abstracts\n",
    "    ab = doc.find_all(\"div\", itemprop=\"abstract\")\n",
    "    \n",
    "    papers = []\n",
    "  \n",
    "    for i, (t,a) in enumerate(zip(text,ab)):\n",
    "        title = t.get_text()\n",
    "        ref = t.a.get('href')\n",
    "        abstract = a.get_text()\n",
    "        \n",
    "        # check if the article has an abstract\n",
    "        if abstract == '':\n",
    "            print(f'Article{i}: {title} has an empty abstract')\n",
    "        \n",
    "        #append to a list\n",
    "        papers.append([title, ref, abstract])\n",
    "\n",
    "    return papers\n"
   ]
  },
  {
   "cell_type": "code",
   "execution_count": 77,
   "id": "05a9e0ef",
   "metadata": {},
   "outputs": [
    {
     "name": "stdout",
     "output_type": "stream",
     "text": [
      "Article5: Binding of Rab3 A to Synaptic Vesicles. has an empty abstract\n",
      "Article9: Mechanistic insights into alpha-Synuclein neuronal toxicity: misfolding, serine phosphorylation and interactions with Rab GTPases has an empty abstract\n"
     ]
    }
   ],
   "source": [
    "# Getting information from CORE\n",
    "doc = get_paperinfo('https://core.ac.uk/search?q=rab1b')\n",
    "\n",
    "papers = core_attributes(doc)"
   ]
  },
  {
   "cell_type": "code",
   "execution_count": 81,
   "id": "7a0984e6",
   "metadata": {},
   "outputs": [
    {
     "ename": "ModuleNotFoundError",
     "evalue": "No module named 'pandas'",
     "output_type": "error",
     "traceback": [
      "\u001b[0;31m---------------------------------------------------------------------------\u001b[0m",
      "\u001b[0;31mModuleNotFoundError\u001b[0m                       Traceback (most recent call last)",
      "Input \u001b[0;32mIn [81]\u001b[0m, in \u001b[0;36m<cell line: 1>\u001b[0;34m()\u001b[0m\n\u001b[0;32m----> 1\u001b[0m \u001b[38;5;28;01mimport\u001b[39;00m \u001b[38;5;21;01mpandas\u001b[39;00m \u001b[38;5;28;01mas\u001b[39;00m \u001b[38;5;21;01mpd\u001b[39;00m\n\u001b[1;32m      2\u001b[0m df \u001b[38;5;241m=\u001b[39m pd\u001b[38;5;241m.\u001b[39mDataFrame(papers, columns \u001b[38;5;241m=\u001b[39m [\u001b[38;5;124m'\u001b[39m\u001b[38;5;124mtitle\u001b[39m\u001b[38;5;124m'\u001b[39m, \u001b[38;5;124m'\u001b[39m\u001b[38;5;124mref\u001b[39m\u001b[38;5;124m'\u001b[39m, \u001b[38;5;124m'\u001b[39m\u001b[38;5;124mabstract\u001b[39m\u001b[38;5;124m'\u001b[39m])\n",
      "\u001b[0;31mModuleNotFoundError\u001b[0m: No module named 'pandas'"
     ]
    }
   ],
   "source": [
    "import pandas as pd\n",
    "df = pd.DataFrame(papers, columns = ['title', 'ref', 'abstract'])"
   ]
  },
  {
   "cell_type": "code",
   "execution_count": 76,
   "id": "adb81e72",
   "metadata": {},
   "outputs": [
    {
     "data": {
      "text/plain": [
       "10"
      ]
     },
     "execution_count": 76,
     "metadata": {},
     "output_type": "execute_result"
    }
   ],
   "source": [
    "len(titles)"
   ]
  },
  {
   "cell_type": "code",
   "execution_count": 23,
   "id": "3ec44885",
   "metadata": {},
   "outputs": [
    {
     "data": {
      "text/plain": [
       "['https://core.ac.uk/works/38509774',\n",
       " 'https://core.ac.uk/works/125806702',\n",
       " 'https://core.ac.uk/works/12659273',\n",
       " 'https://core.ac.uk/works/1658786',\n",
       " 'https://core.ac.uk/works/83307064',\n",
       " 'https://core.ac.uk/works/60874664',\n",
       " 'https://core.ac.uk/works/47663115',\n",
       " 'https://core.ac.uk/works/18501564',\n",
       " 'https://core.ac.uk/works/1328115',\n",
       " 'https://core.ac.uk/works/48848123']"
      ]
     },
     "execution_count": 23,
     "metadata": {},
     "output_type": "execute_result"
    }
   ],
   "source": [
    "text = doc.main.find_all('h3')\n",
    "titles = []\n",
    "refs = []\n",
    "for item in text:\n",
    "    title = item.get_text()\n",
    "    ref = item.a.get('href')\n",
    "    titles.append(title)\n",
    "    refs.append(ref)\n",
    "    \n",
    "refs"
   ]
  },
  {
   "cell_type": "code",
   "execution_count": 45,
   "id": "631f6f48",
   "metadata": {},
   "outputs": [
    {
     "name": "stdout",
     "output_type": "stream",
     "text": [
      "<div class=\"styles-content-35LN7\" itemprop=\"abstract\"><span></span></div>, 5 has an empty abstract\n",
      "<div class=\"styles-content-35LN7\" itemprop=\"abstract\"><span></span></div>, 9 has an empty abstract\n"
     ]
    },
    {
     "data": {
      "text/plain": [
       "[\"Legionella pneumophila, the causative agent of Legionnaire's disease, uses its type IV secretion system to translocate over 300 effector proteins into host cells. These effectors subvert host cell signaling pathways to ensure bacterial proliferation. Despite their importance for pathogenesis, the roles of most of the effectors are yet to be characterized. Key to understanding the function of effectors is the identification of host proteins they bind during infection. We previously developed a novel tandem-affinity purification (TAP) approach using hexahistidine and BirA-specific biotinylation tags for isolating translocated effector complexes from infected cells whose composition were subsequently deciphered by mass spectrometry. Here we further advanced the workflow for the TAP approach and determined the infection-dependent interactomes of the effectors SidM and LidA, which were previously reported to promiscuously bind multiple Rab GTPases in vitro. In this study we defined a stringent subset of Rab GTPases targeted by SidM and LidA during infection, comprising of Rab1A, 1B, 6, and 10; in addition, LidA targets Rab14 and 18. Taken together, this study illustrates the power of this approach to profile the intracellular interactomes of bacterial effectors during infection\",\n",
       " 'Y. pestis is a facultative intracellular pathogen and the causative agent of plague. This bacterium, while most noted or the Black Death during the European 14th century, is not a historic pathogen but a re-emerging pandemic with both domestic and global impact. Y. pestis is capable of colonizing the macrophage, and actively subverts phagolysosome maturation to establish a replicative niche known as the Yersinia containing vacuole (YCV). The exploited host factors required to support the YCV are unknown. Here we identified a comprehensive list of host factors required for Y. pestis survival through a genome-wide RNAi high-throughput screen. We further identify that avoidance of the phagolysosome requires early recruitment of Rab1b and Rab4a on the YCV. Finally, we show that during intracellular infection Y. pestis sequesters Rab11b to the YCV to stall host cell recycling and support bacterial replication after 8 hours post-infection. These data identify the first host factors required for Y. pestis survival within the macrophage, avoidance of phagolysosome maturation, and a novel role for exploiting the host recycling pathway for bacterial replication',\n",
       " 'We report an essential role for the ras-related small GTP-binding protein rab1b in vesicular transport in mammalian cells. mAbs detect rab1b in both the ER and Golgi compartments. Using an assay which reconstitutes transport between the ER and the cis-Golgi compartment, we find that rab1b is required during an initial step in export of protein from the ER. In addition, it is also required for transport of protein between successive cis- and medial-Golgi compartments. We suggest that rab1b may provide a common link between upstream and downstream components of the vesicular fission and fusion machinery functioning in early compartments of the secretory pathway',\n",
       " 'BACKGROUND: The small GTPase rab1a and its isoform rab1b are essential regulating components in the vesicle transport between the ER and the Golgi apparatus. Rab1 is thought to act as a molecular switch and can change between an active GTP-bound and an inactive GDP-bound conformation. To elucidate the function of rab1, several approaches have been established to isolate effector proteins, which interact with the activated conformation of rab1. To date p115, GM130, golgin-84 and MICAL have been identified as direct interacting partners. Together with rab1, these molecules are components of a protein complex, which mediates and regulates intracellular vesicle transport. RESULTS: Here, we report the characterization of Iporin, which is similar to KIAA0375 as a novel rab1-interacting protein. It was initially identified by yeast two-hybrid screening experiments with the active mutant of rab1b (rab1b Q67R) as bait. Iporin contains a SH3 domain and two polyproline stretches, which are known to play a role in protein/protein interactions. In addition, Iporin encloses a RUN domain, which seems to be a major part of the rab1binding domain (R1BD). Iporin is ubiquitously expressed and immunofluorescence staining displays a cytosolic punctual distribution. Interestingly, we also show that Iporin interacts with another rab1 interacting partner, the GM130 protein. CONCLUSION: Our results demonstrate that Iporin is a potential new interacting partner of rab1. Iporin is different from already identified rab1 interacting proteins concerning protein structure and cellular localization. We conclude that Iporin might function as a link between the targeting of ER derived vesicles, triggered by the rab1 GTPase and a signaling pathway regulated by molecules containing SH3 and/or poly-proline regions. The characterization of this novel intermolecular relation could help to elucidate how vesicles find their way from ER to the Golgi apparatus',\n",
       " 'Secretory cells produce diverse cargoes, yet how they regulate concomitant secretory traffic remains insufficiently explored. Rab GTPases control intracellular vesicular transport. To map secretion pathways, we generated a library of lentivirus-expressed dominant-negative Rab mutants and used it in a large-scale screen to identify regulators of hepatic lipoprotein secretion. We identified several candidate pathways, including those mediated by Rab11 and Rab8. Surprisingly, inhibition of Rab1b, the major regulator of transport from the endoplasmic reticulum to the Golgi, differently affected the secretion of the very-low-density lipoprotein components ApoE and ApoB100, despite their final association on mature secreted lipoprotein particles. Since hepatitis C virus (HCV) incorporates ApoE and ApoB100 into its virus particle, we also investigated infectious HCV secretion and show that its regulation by Rab1b mirrors that of ApoB100. These observations reveal differential regulation of hepatocyte secretion by Rab1b and advance our understanding of lipoprotein assembly and lipoprotein and HCV secretion',\n",
       " '',\n",
       " 'The hepatocyte is one of the major secretory cell types in the body. It fulfills many of the liver\\\\u27s essential functions in protein secretion, lipid storage and transport, and excretion. Some of these functions are carried out via polarized secretion of simple protein cargo, such as serum albumin, or large macromolecular lipid-protein complexes, the lipoproteins. The hepatocyte is also the site of infection of several hepatotropic viruses. Of these, hepatitis C virus (HCV) is peculiar due to its close structural and functional association with the hepatic lipoproteins. All these cargoes are transported from the endoplasmic reticulum (ER) to the cell surface by the vesicular secretory pathway, yet insufficient knowledge exists regarding the molecular regulation of their secretion by the hepatocyte. Furthermore, differential modalities of regulation may be involved in the shuttling of such a diverse set of cargoes as albumin, the lipoproteins and HCV.  The work presented here head-starts a comprehensive examination of how the hepatocyte regulates the secretion of the following cargoes: serum albumin, the apolipoproteins E and B100 (ApoE and ApoB100, respectively, both lipoprotein components, and surrogate markers for these complex macromolecular particles), and HCV, a lipoprotein-associated virus. I propose to combine genetic, biochemical, virological and imaging approaches to identify which vesicular secretory pathways are utilized by each of these cargoes. These approaches include inactivation of specific vesicular transport pathways, accompanied by measurements of their effects on cargo secretion efficiencies, and establishment of functional fluorescent protein-tagged cargo markers to be used in live cell imaging experiments. I begin by describing a dominant negative (DN) Rab GTPase screen that I  performed to identify Rab proteins involved in ApoE, ApoB100 or albumin secretion.  The small Rab GTPases control individual steps of vesicular transport. I analyzed how expression of individual dominant negative Rab proteins affected cargo secretion compared to expression of their wild type (WT) counterparts. I identified several Rabs that caused significant changes in secretion, many of which had previously been described as regulators of various exocytic vesicular transport steps.  I next present ongoing work that aims to define the involvement of the Rabs 11a, 11b, 8a, and 8b in hepatic cargo secretion. Their dominant negative mutants exhibited some of the largest secretion phenotypes in my dominant negative Rab screen. These Rabs have been implicated in various aspects of post-Golgi secretion in polarized and non-polarized cell types. I thus discuss the implications of their involvement in cargo secretion in the polarized hepatocyte and outline my ongoing efforts to define the parameters of this involvement.  I also investigated the function of Rab1b in hepatic secretion. I show that inactivation of Rab1 function, by expression of a set of dominant negative mutants, or by expression of a bacterial effector which affects Rab1 function, led to impairment of albumin, ApoE, ApoB100 and HCV secretion. I implicate Rab1, for the first time to my knowledge, in the transport of these cargoes. I also document differences in the sensitivity of cargo secretion to the various means of Rab1 inactivation. ApoE secretion, in particular, was insensitive to several means of transport inactivation, consistent with existing models of differential regulation of hepatic cargo transport.  Lastly, I functionally characterize an ApoE-green fluorescent protein fusion (ApoE-GFP). I show that while ApoE-GFP does not support infectious HCV release, a hallmark function of untagged ApoE, ApoE-GFP nevertheless reproduces several known behaviors of ApoE that have been associated with lipoprotein release. I thus conclude that ApoE-GFP may be a useful marker for live cell imaging of lipoprotein release.  This work therefore identifies potential regulators of hepatic cargo transport, establishes molecular tools useful for the continued study of cargo secretion in hepatocytes and elsewhere, and advances the understanding of the involvement of Rabs 11, 8, and, in particular, Rab1, in the regulation of hepatic cargo transport. I propose that this work forms a solid foundation for extensive studies on how these biomedically relevant hepatic cargoes are secreted',\n",
       " 'Acknowledgments We are very grateful to Leigh Knodler for her generous gift of P22 phages from a S. Typhimurium glmS::Cm::mCherry strain. We thank the Microscopy and Histology Core Facility, the Centre for Genome-Enabled Biology and Medicine (CGEBM), the Iain Fraser Cytometry Centre and the qPCR Facility (University of Aberdeen) for their support and assistance in this work. We thank members of the Spanò/Baldassarre laboratory for their feedback throughout this project. The content of this manuscript has been posted as a preprint on bioRxiv (Solano-Collado et al., 2020). Funding This work was supported by the European Union’s Horizon 2020 research and innovation program Marie Skłodowska-Curie Fellowship (706040_KILLINGTYPHI) to VS-C, the Wellcome Trust (Seed Award 109680/Z/15/Z), the European Union’s Horizon 2020 ERC consolidator award (2016-726152-TYPHI), the BBSRC (BB/N017854/1) and Tenovus Scotland (G14/19) to SS.Peer reviewedPublisher PD',\n",
       " 'BACKGROUND: Members of the Rab GTPase family regulate intracellular protein trafficking, but the specific function of Rab24 remains unknown. Several attributes distinguish this protein from other members of the Rab family, including a low intrinsic GTPase activity. RESULTS: The functions of other Rab proteins have been defined through the use of dominant-negative mutants with amino acid substitutions in the conserved N(T)KxD nucleotide binding motif. Surprisingly, when such Rab24 constructs were expressed in cultured cells, they accumulated in nuclear inclusions which disrupted the integrity of the nuclear envelope. The inclusions reacted positively with antibodies against ubiquitin and Hsp70, similar to protein aggregates observed in polyglutamine disorders. They also appeared to sequester importin-β and GFP-coupled glucocorticoid receptor. Other Rab GTPases with similar mutations in the N(T)KxD motif were never found in inclusions, suggesting that the unusual localization of Rab24 is not related solely to misfolding of its nucleotide-free form. Studies with Rab24/Rab1B chimeras indicated that targeting of the mutant protein to inclusions requires the unique C-terminal domain of Rab24. CONCLUSION: These studies demonstrate that mutations in Rab24 can trigger a cytopathic cellular response involving accumulation of nuclear inclusions. If the N(T)KxD mutants of Rab24 function as dominant suppressors, these studies may point to a unique role for Rab24 in degradation of misfolded cellular proteins or trafficking of proteins to the nuclear envelope. However, we cannot yet eliminate the possibility that these phenomena are related to unusual non-physiological protein interactions with the mutant form of Rab24',\n",
       " '']"
      ]
     },
     "execution_count": 45,
     "metadata": {},
     "output_type": "execute_result"
    }
   ],
   "source": [
    "ab = doc.find_all(\"div\", itemprop=\"abstract\")\n",
    "abstracts = []\n",
    "\n",
    "for i, item in enumerate(ab):\n",
    "    abstract = item.get_text()\n",
    "    \n",
    "    # check if the article has an abstract\n",
    "    if abstract == '':\n",
    "        print(f'{item}, {i} has an empty abstract')\n",
    "    \n",
    "    #append to list\n",
    "    abstracts.append(abstract)\n",
    "    \n",
    "abstracts"
   ]
  },
  {
   "cell_type": "code",
   "execution_count": null,
   "id": "2f59a341",
   "metadata": {},
   "outputs": [],
   "source": []
  },
  {
   "cell_type": "code",
   "execution_count": null,
   "id": "81231cd0",
   "metadata": {},
   "outputs": [],
   "source": []
  }
 ],
 "metadata": {
  "kernelspec": {
   "display_name": "Python 3 (ipykernel)",
   "language": "python",
   "name": "python3"
  },
  "language_info": {
   "codemirror_mode": {
    "name": "ipython",
    "version": 3
   },
   "file_extension": ".py",
   "mimetype": "text/x-python",
   "name": "python",
   "nbconvert_exporter": "python",
   "pygments_lexer": "ipython3",
   "version": "3.10.6"
  }
 },
 "nbformat": 4,
 "nbformat_minor": 5
}
