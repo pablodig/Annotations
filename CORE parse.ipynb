{
 "cells": [
  {
   "cell_type": "markdown",
   "id": "8e0eed8c",
   "metadata": {},
   "source": [
    "### Import Libraries"
   ]
  },
  {
   "cell_type": "code",
   "execution_count": 87,
   "id": "5fa6b032",
   "metadata": {},
   "outputs": [],
   "source": [
    "from requests_html import HTMLSession\n",
    "from bs4 import BeautifulSoup\n",
    "import pandas as pd\n",
    "from tqdm import tqdm_notebook as tqdm\n",
    "import re\n",
    "import math"
   ]
  },
  {
   "cell_type": "markdown",
   "id": "020626c7",
   "metadata": {},
   "source": [
    "### Fuctions to extract info from CORE webpage"
   ]
  },
  {
   "cell_type": "code",
   "execution_count": 2,
   "id": "ad27efd6",
   "metadata": {},
   "outputs": [],
   "source": [
    "# this function for the getting information from the web page\n",
    "\n",
    "def get_paperinfo(paper_url):\n",
    "\n",
    "    #download the page\n",
    "    session = HTMLSession()\n",
    "    response=session.get(paper_url)\n",
    "\n",
    "  # check successful response\n",
    "    if response.status_code != 200:\n",
    "        print('Status code:', response.status_code)\n",
    "        raise Exception('Failed to fetch web page ')\n",
    "\n",
    "  #parse using beautiful soup\n",
    "    paper_doc = BeautifulSoup(response.text,'html.parser')\n",
    "\n",
    "    return paper_doc\n",
    "\n",
    "\n",
    "def core_attributes(doc):\n",
    "    \n",
    "    '''\n",
    "    recieves a doc file from the get_paperinfo function\n",
    "    and returns title, ref and abstract from the CORE webpage\n",
    "    '''\n",
    "    \n",
    "    # text contains title and references\n",
    "    text = doc.main.find_all('h3')\n",
    "    # ab contains the abstracts\n",
    "    ab = doc.find_all(\"div\", itemprop=\"abstract\")\n",
    "    \n",
    "    papers = []\n",
    "  \n",
    "    for i, (t,a) in enumerate(zip(text,ab)):\n",
    "        title = t.get_text()\n",
    "        ref = t.a.get('href')\n",
    "        abstract = a.get_text()\n",
    "        \n",
    "        # check if the article has an abstract\n",
    "        if abstract == '':\n",
    "            print(f'Article{i}: {title} has an empty abstract')\n",
    "        \n",
    "        #append to a list\n",
    "        papers.append([title, ref, abstract])\n",
    "\n",
    "    return papers\n"
   ]
  },
  {
   "cell_type": "markdown",
   "id": "9b45a5b3",
   "metadata": {},
   "source": [
    "### Generation of pandas df with stored paper data"
   ]
  },
  {
   "cell_type": "code",
   "execution_count": 101,
   "id": "05a9e0ef",
   "metadata": {},
   "outputs": [
    {
     "name": "stderr",
     "output_type": "stream",
     "text": [
      "/var/folders/_x/tfg8s2ks4n1ftkkwzp5sqjpc0000gn/T/ipykernel_1177/4217500215.py:14: TqdmDeprecationWarning: This function will be removed in tqdm==5.0.0\n",
      "Please use `tqdm.notebook.tqdm` instead of `tqdm.tqdm_notebook`\n",
      "  for l in tqdm(range(round_)):\n"
     ]
    },
    {
     "data": {
      "application/vnd.jupyter.widget-view+json": {
       "model_id": "00c8037e5b384cd5b459ff68d20c1bf7",
       "version_major": 2,
       "version_minor": 0
      },
      "text/plain": [
       "  0%|          | 0/4 [00:00<?, ?it/s]"
      ]
     },
     "metadata": {},
     "output_type": "display_data"
    },
    {
     "name": "stdout",
     "output_type": "stream",
     "text": [
      "Article7: Dissecting the Role of Caenorhabditis elegans Dynein Light Intermediate Chain in Neuronal Trafficking has an empty abstract\n",
      "Article9: Features of structural binding motifs and their predictive power has an empty abstract\n",
      "Article7: Dissecting the Role of Caenorhabditis elegans Dynein Light Intermediate Chain in Neuronal Trafficking has an empty abstract\n",
      "Article9: Features of structural binding motifs and their predictive power has an empty abstract\n"
     ]
    }
   ],
   "source": [
    "# Getting information from CORE\n",
    "gene = 'rab45'\n",
    "doc = get_paperinfo(f'https://core.ac.uk/search?q={gene}')\n",
    "n_output = doc.find(\"div\", class_=\"styles_header__dGlUR\").p.get_text()\n",
    "#n_output = n_output.p.get_text()\n",
    "number = re.findall(r'\\b\\d+\\b', n_output)\n",
    "number = float(number[0])\n",
    "round_ = math.ceil(number/10)\n",
    "\n",
    "#Create empty dataframe\n",
    "df = pd.DataFrame(columns = ['title', 'ref', 'abstract'])\n",
    "\n",
    "#Iterate over different pages on the CORE database to obtain titlt, ref and abstract and add to df\n",
    "for l in tqdm(range(round_)):\n",
    "    doc = get_paperinfo(f'https://core.ac.uk/search?q={gene}+AND+language%3A%22en%22&page={l}')\n",
    "    papers = core_attributes(doc)\n",
    "    dft = pd.DataFrame(papers, columns = ['title', 'ref', 'abstract'])\n",
    "    df = pd.concat([df,dft])  \n",
    "    \n",
    "#df.to_csv('paper_info.csv')"
   ]
  }
 ],
 "metadata": {
  "kernelspec": {
   "display_name": "Python 3 (ipykernel)",
   "language": "python",
   "name": "python3"
  },
  "language_info": {
   "codemirror_mode": {
    "name": "ipython",
    "version": 3
   },
   "file_extension": ".py",
   "mimetype": "text/x-python",
   "name": "python",
   "nbconvert_exporter": "python",
   "pygments_lexer": "ipython3",
   "version": "3.10.6"
  }
 },
 "nbformat": 4,
 "nbformat_minor": 5
}
